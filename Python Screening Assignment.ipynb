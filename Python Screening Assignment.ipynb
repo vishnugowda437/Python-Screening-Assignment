{
 "cells": [
  {
   "cell_type": "code",
   "execution_count": 1,
   "id": "f3be1133",
   "metadata": {},
   "outputs": [
    {
     "name": "stdout",
     "output_type": "stream",
     "text": [
      "Origin file content: This is a placement assignment\n",
      "Replaced file content: This is a screening assignment\n"
     ]
    },
    {
     "data": {
      "text/plain": [
       "'Replaced the string in the file C:\\\\Users\\\\vishn\\\\Downloads\\\\example.txt'"
      ]
     },
     "execution_count": 1,
     "metadata": {},
     "output_type": "execute_result"
    }
   ],
   "source": [
    "def file_content(filepath ,which_word_to_replace ,replace_with_what):\n",
    "    #provide file path ,string which needs to replaced , string to replace\n",
    "    import re\n",
    "    with open(filepath) as f:\n",
    "        text=f.read()\n",
    "    print('Origin file content:' ,text)\n",
    "    text=re.sub(which_word_to_replace ,replace_with_what ,text)\n",
    "    print('Replaced file content:',text)\n",
    "    with open(filepath,'w') as f:\n",
    "        f.write(text)\n",
    "    return \"Replaced the string in the file {}\".format(filepath)\n",
    "file_content(r\"C:\\Users\\vishn\\Downloads\\example.txt\" , \"placement\" ,\"screening\")"
   ]
  },
  {
   "cell_type": "code",
   "execution_count": 2,
   "id": "4d449a10",
   "metadata": {},
   "outputs": [],
   "source": [
    "# class\n",
    "class list_parser :\n",
    "    def __init__(self , l):\n",
    "        self.l = l \n",
    "    \n",
    "    def parcer(self):\n",
    "        if type(self.l) == list :\n",
    "            for i in self.l:\n",
    "                print(i)\n",
    "                \n",
    "    def reverser_list(self) :\n",
    "        if type(self.l) == list:\n",
    "            return self.l [::-1]"
   ]
  },
  {
   "cell_type": "code",
   "execution_count": 3,
   "id": "bce89476",
   "metadata": {},
   "outputs": [
    {
     "name": "stdout",
     "output_type": "stream",
     "text": [
      "2\n",
      "3\n",
      "4\n",
      "6\n",
      "7\n",
      "78\n"
     ]
    }
   ],
   "source": [
    "c = list_parser([2,3,4,6,7,78])\n",
    "c.parcer()"
   ]
  },
  {
   "cell_type": "code",
   "execution_count": 4,
   "id": "700e2947",
   "metadata": {},
   "outputs": [
    {
     "data": {
      "text/plain": [
       "[78, 7, 6, 4, 3, 2]"
      ]
     },
     "execution_count": 4,
     "metadata": {},
     "output_type": "execute_result"
    }
   ],
   "source": [
    "c.reverser_list()"
   ]
  },
  {
   "cell_type": "code",
   "execution_count": 5,
   "id": "c4c681cd",
   "metadata": {},
   "outputs": [],
   "source": [
    "#multiple inhertiance\n",
    "class kids_neuron:\n",
    "    pass\n",
    "\n",
    "class tech_neuron:\n",
    "    pass\n",
    "\n",
    "class one_neuron(kids_neuron, tech_neuron):\n",
    "    pass\n",
    "# class one_neuron is having multiple inhertiance from both class kids_neuron & tech_neuron"
   ]
  },
  {
   "cell_type": "code",
   "execution_count": 6,
   "id": "8fc8aaea",
   "metadata": {},
   "outputs": [
    {
     "data": {
      "text/plain": [
       "'911'"
      ]
     },
     "execution_count": 6,
     "metadata": {},
     "output_type": "execute_result"
    }
   ],
   "source": [
    "#decorator\n",
    "class Cellphone:\n",
    "    def __init__(self, brand, number):\n",
    "        self.brand = brand\n",
    "        self.number = number\n",
    "        \n",
    "    def get_number(self):\n",
    "        return self.number\n",
    "      \n",
    "    @staticmethod\n",
    "    def get_emergency_number():\n",
    "        return \"911\"\n",
    "      \n",
    "Cellphone.get_emergency_number()"
   ]
  }
 ],
 "metadata": {
  "kernelspec": {
   "display_name": "Python 3 (ipykernel)",
   "language": "python",
   "name": "python3"
  },
  "language_info": {
   "codemirror_mode": {
    "name": "ipython",
    "version": 3
   },
   "file_extension": ".py",
   "mimetype": "text/x-python",
   "name": "python",
   "nbconvert_exporter": "python",
   "pygments_lexer": "ipython3",
   "version": "3.9.7"
  }
 },
 "nbformat": 4,
 "nbformat_minor": 5
}
